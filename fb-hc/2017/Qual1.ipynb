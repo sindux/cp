{
 "cells": [
  {
   "cell_type": "code",
   "execution_count": 34,
   "metadata": {
    "collapsed": false
   },
   "outputs": [],
   "source": [
    "with open('qual1-sample.txt') as f:\n",
    "    lines=f.readlines()\n",
    "\n",
    "lines = [[int(i) for i in line.strip().split(' ')] for line in lines]"
   ]
  },
  {
   "cell_type": "code",
   "execution_count": 38,
   "metadata": {
    "collapsed": false
   },
   "outputs": [
    {
     "data": {
      "text/plain": [
       "[[5], [0, 55, 55], [12, 55, 55], [13, 55, 55], [99, 99, 99], [87, 20, 40]]"
      ]
     },
     "execution_count": 38,
     "metadata": {},
     "output_type": "execute_result"
    }
   ],
   "source": [
    "lines"
   ]
  },
  {
   "cell_type": "code",
   "execution_count": 67,
   "metadata": {
    "collapsed": true
   },
   "outputs": [],
   "source": [
    "import math"
   ]
  },
  {
   "cell_type": "code",
   "execution_count": 171,
   "metadata": {
    "collapsed": false
   },
   "outputs": [
    {
     "name": "stdout",
     "output_type": "stream",
     "text": [
      "Case #1: white\n",
      "12 55 55 y1 99.74937185533099 y2 55.32445920162396 rpct 43.2 0.7539822368615503 dx 5 dy1 49.749371855331 dy2 5.324459201623959 False\n",
      "Case #2: white\n",
      "13 55 55 y1 99.74937185533099 y2 54.69531252908746 rpct 46.800000000000004 0.8168140899333463 dx 5 dy1 49.749371855331 dy2 4.695312529087461 True\n",
      "Case #3: black\n",
      "Case #4: white\n",
      "13 80 40 y1 90.0 y2 78.17187517452477 rpct 46.800000000000004 0.8168140899333463 dx 30 dy1 40.0 dy2 28.171875174524768 False\n",
      "Case #5: black\n",
      "1 50 55 y1 100.0 y2 50.0 rpct 3.6000000000000005 0.06283185307179587 dx 0 dy1 50.0 dy2 0.0 True\n",
      "13 55 55 y1 99.74937185533099 y2 54.69531252908746 rpct 46.800000000000004 0.8168140899333463 dx 5 dy1 49.749371855331 dy2 4.695312529087461 True\n",
      "25 55 50 y1 99.74937185533099 y2 50.0 rpct 90.0 1.5707963267948966 dx 5 dy1 49.749371855331 dy2 0.0 True\n",
      "37 55 46 y1 99.74937185533099 y2 45.30468747091254 rpct 133.20000000000002 2.324778563656447 dx 5 dy1 49.749371855331 dy2 4.695312529087463 True\n",
      "48 55 45 y1 99.74937185533099 y2 10.420924558470944 rpct 172.8 3.015928947446201 dx 5 dy1 49.749371855331 dy2 39.579075441529056 True\n",
      "49 55 45 y1 99.74937185533099 y2 0.0 rpct 176.4 3.078760800517997 dx 5 dy1 49.749371855331 dy2 79.47272421932635 True\n",
      "50 50 45 y1 100.0 y2 0 rpct 180.0 3.141592653589793 dx 0 dy1 50.0 dy2 0.0 True\n",
      "33 55 45 y1 99.74937185533099 y2 47.25122673903615 rpct 118.80000000000003 2.0734511513692637 dx 5 dy1 49.749371855331 dy2 2.748773260963852 False\n",
      "25 55 50 y1 99.74937185533099 y2 50.0 rpct 90.0 1.5707963267948966 dx 5 dy1 49.749371855331 dy2 0.0 True\n",
      "12 55 55 y1 99.74937185533099 y2 55.32445920162396 rpct 43.2 0.7539822368615503 dx 5 dy1 49.749371855331 dy2 5.324459201623959 False\n",
      "13 55 55 y1 99.74937185533099 y2 54.69531252908746 rpct 46.800000000000004 0.8168140899333463 dx 5 dy1 49.749371855331 dy2 4.695312529087461 True\n",
      "1 55 55 y1 99.74937185533099 y2 100.0 rpct 3.6000000000000005 0.06283185307179587 dx 5 dy1 49.749371855331 dy2 79.47272421932635 False\n"
     ]
    },
    {
     "data": {
      "text/plain": [
       "'black'"
      ]
     },
     "execution_count": 171,
     "metadata": {},
     "output_type": "execute_result"
    }
   ],
   "source": [
    "def solve(pct, x, y):\n",
    "    if pct == 0: return 'white'\n",
    "    dx=abs(50-x)\n",
    "    dy=abs(50-y)\n",
    "    r2=dx*dx+dy*dy\n",
    "    if r2>50*50: return 'white'\n",
    "    flip=False\n",
    "    if pct > 50:\n",
    "        flip=True\n",
    "        x = 100 - x\n",
    "        pct=100-pct\n",
    "    dy1=math.sqrt(50*50-dx*dx)\n",
    "    y1=min(100.0,50+dy1)\n",
    "    rpct=math.pi*2*pct/100.0\n",
    "    dy2=dx*math.tan(abs(math.pi/2-rpct))\n",
    "    y2=min(100.0,50+dy2) if pct<=25 else max(0.0,50-dy2) if pct < 50 else 0\n",
    "    print(pct,x,y,'y1',y1,'y2',y2,'rpct',rpct*180/math.pi,rpct,'dx',dx,'dy1',dy1,'dy2',dy2,y<=y1 and y>=y2)\n",
    "    if not flip:\n",
    "        return 'black' if y <= y1 and y >= y2 else 'white'\n",
    "    else:\n",
    "        return 'white' if y <= y1 and y >= y2 else 'black'\n",
    "\n",
    "for t in range(lines[0][0]):\n",
    "    print('Case #{}: {}'.format(t+1, solve(*lines[t+1])))\n",
    "\n",
    "solve(1,50,55)\n",
    "solve(13,55,55)\n",
    "solve(25,55,50)\n",
    "solve(37,55,46)\n",
    "solve(48,55,45)\n",
    "solve(49,55,45)\n",
    "solve(50,50,45)\n",
    "solve(67,45,45)\n",
    "solve(75,45,50)\n",
    "solve(88,45,55)\n",
    "solve(87,45,55)\n",
    "solve(99,45,55)"
   ]
  },
  {
   "cell_type": "code",
   "execution_count": 158,
   "metadata": {
    "collapsed": false
   },
   "outputs": [
    {
     "data": {
      "text/plain": [
       "15.894544712482242"
      ]
     },
     "execution_count": 158,
     "metadata": {},
     "output_type": "execute_result"
    }
   ],
   "source": [
    "math.tan(3.0787608-math.pi/2)"
   ]
  },
  {
   "cell_type": "code",
   "execution_count": 159,
   "metadata": {
    "collapsed": false
   },
   "outputs": [
    {
     "data": {
      "text/plain": [
       "1.5079644732051034"
      ]
     },
     "execution_count": 159,
     "metadata": {},
     "output_type": "execute_result"
    }
   ],
   "source": [
    "3.0787608-math.pi/2"
   ]
  },
  {
   "cell_type": "code",
   "execution_count": null,
   "metadata": {
    "collapsed": true
   },
   "outputs": [],
   "source": []
  }
 ],
 "metadata": {
  "anaconda-cloud": {},
  "kernelspec": {
   "display_name": "Python [default]",
   "language": "python",
   "name": "python3"
  },
  "language_info": {
   "codemirror_mode": {
    "name": "ipython",
    "version": 3
   },
   "file_extension": ".py",
   "mimetype": "text/x-python",
   "name": "python",
   "nbconvert_exporter": "python",
   "pygments_lexer": "ipython3",
   "version": "3.5.2"
  }
 },
 "nbformat": 4,
 "nbformat_minor": 1
}
