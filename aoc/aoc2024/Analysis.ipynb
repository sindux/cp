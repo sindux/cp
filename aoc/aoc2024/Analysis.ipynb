{
 "cells": [
  {
   "cell_type": "code",
   "execution_count": 43,
   "id": "27a472a1-d157-4499-92a4-90291ad09604",
   "metadata": {},
   "outputs": [],
   "source": [
    "import polars as pl, seaborn as sns, pathlib, ast, sympy"
   ]
  },
  {
   "cell_type": "markdown",
   "id": "edb9f8b4-12a1-444e-ad37-4306e00fc2ce",
   "metadata": {},
   "source": [
    "# Day 7"
   ]
  },
  {
   "cell_type": "code",
   "execution_count": 2,
   "id": "1ad1bcd3-5178-4b0b-8caa-a08442b42621",
   "metadata": {},
   "outputs": [
    {
     "data": {
      "text/html": [
       "<div><style>\n",
       ".dataframe > thead > tr,\n",
       ".dataframe > tbody > tr {\n",
       "  text-align: right;\n",
       "  white-space: pre-wrap;\n",
       "}\n",
       "</style>\n",
       "<small>shape: (850, 3)</small><table border=\"1\" class=\"dataframe\"><thead><tr><th>column_1</th><th>column_2</th><th>col2len</th></tr><tr><td>i64</td><td>list[str]</td><td>u32</td></tr></thead><tbody><tr><td>7628244</td><td>[&quot;4&quot;, &quot;6&quot;, … &quot;321&quot;]</td><td>5</td></tr><tr><td>1961493912</td><td>[&quot;729&quot;, &quot;232&quot;, … &quot;9&quot;]</td><td>7</td></tr><tr><td>79325232924618</td><td>[&quot;907&quot;, &quot;466&quot;, … &quot;618&quot;]</td><td>6</td></tr><tr><td>5036760</td><td>[&quot;5&quot;, &quot;647&quot;, … &quot;8&quot;]</td><td>10</td></tr><tr><td>152117</td><td>[&quot;5&quot;, &quot;75&quot;, … &quot;162&quot;]</td><td>6</td></tr><tr><td>&hellip;</td><td>&hellip;</td><td>&hellip;</td></tr><tr><td>55225476873</td><td>[&quot;685&quot;, &quot;1&quot;, … &quot;873&quot;]</td><td>7</td></tr><tr><td>1721520</td><td>[&quot;456&quot;, &quot;6&quot;, … &quot;797&quot;]</td><td>5</td></tr><tr><td>1454758</td><td>[&quot;16&quot;, &quot;96&quot;, … &quot;50&quot;]</td><td>6</td></tr><tr><td>476343</td><td>[&quot;4&quot;, &quot;466&quot;, … &quot;9&quot;]</td><td>12</td></tr><tr><td>6825448</td><td>[&quot;94&quot;, &quot;2&quot;, … &quot;8&quot;]</td><td>7</td></tr></tbody></table></div>"
      ],
      "text/plain": [
       "shape: (850, 3)\n",
       "┌────────────────┬─────────────────────────┬─────────┐\n",
       "│ column_1       ┆ column_2                ┆ col2len │\n",
       "│ ---            ┆ ---                     ┆ ---     │\n",
       "│ i64            ┆ list[str]               ┆ u32     │\n",
       "╞════════════════╪═════════════════════════╪═════════╡\n",
       "│ 7628244        ┆ [\"4\", \"6\", … \"321\"]     ┆ 5       │\n",
       "│ 1961493912     ┆ [\"729\", \"232\", … \"9\"]   ┆ 7       │\n",
       "│ 79325232924618 ┆ [\"907\", \"466\", … \"618\"] ┆ 6       │\n",
       "│ 5036760        ┆ [\"5\", \"647\", … \"8\"]     ┆ 10      │\n",
       "│ 152117         ┆ [\"5\", \"75\", … \"162\"]    ┆ 6       │\n",
       "│ …              ┆ …                       ┆ …       │\n",
       "│ 55225476873    ┆ [\"685\", \"1\", … \"873\"]   ┆ 7       │\n",
       "│ 1721520        ┆ [\"456\", \"6\", … \"797\"]   ┆ 5       │\n",
       "│ 1454758        ┆ [\"16\", \"96\", … \"50\"]    ┆ 6       │\n",
       "│ 476343         ┆ [\"4\", \"466\", … \"9\"]     ┆ 12      │\n",
       "│ 6825448        ┆ [\"94\", \"2\", … \"8\"]      ┆ 7       │\n",
       "└────────────────┴─────────────────────────┴─────────┘"
      ]
     },
     "execution_count": 2,
     "metadata": {},
     "output_type": "execute_result"
    }
   ],
   "source": [
    "df=pl.read_csv('input/7.txt',has_header=False,separator=':')\n",
    "df=df.with_columns(pl.col('column_2').str.strip_prefix(' ').str.split(' ')).with_columns(pl.col('column_2').list.len().alias('col2len'))"
   ]
  },
  {
   "cell_type": "code",
   "execution_count": 3,
   "id": "c2b41ab7-aeca-4a14-8beb-f8227106aa93",
   "metadata": {},
   "outputs": [
    {
     "data": {
      "text/plain": [
       "<seaborn.axisgrid.FacetGrid at 0x7f96b8646880>"
      ]
     },
     "execution_count": 3,
     "metadata": {},
     "output_type": "execute_result"
    },
    {
     "data": {
      "image/png": "[encoded data removed]",
      "text/plain": [
       "<Figure size 360x360 with 1 Axes>"
      ]
     },
     "metadata": {
      "needs_background": "light"
     },
     "output_type": "display_data"
    }
   ],
   "source": [
    "sns.displot(x=df['col2len'])"
   ]
  },
  {
   "cell_type": "code",
   "execution_count": 4,
   "id": "3794b217-0622-4270-ab0b-96f2901f5015",
   "metadata": {},
   "outputs": [
    {
     "data": {
      "text/plain": [
       "12"
      ]
     },
     "execution_count": 4,
     "metadata": {},
     "output_type": "execute_result"
    }
   ],
   "source": [
    "df['col2len'].max()"
   ]
  },
  {
   "cell_type": "markdown",
   "id": "38d429d8-d5dc-4047-b179-d3c3e1021963",
   "metadata": {},
   "source": [
    "# Day 9"
   ]
  },
  {
   "cell_type": "code",
   "execution_count": 18,
   "id": "41d850ee-62ca-4e45-b62b-4b9a2701074e",
   "metadata": {},
   "outputs": [
    {
     "data": {
      "text/plain": [
       "(19999, 94570)"
      ]
     },
     "execution_count": 18,
     "metadata": {},
     "output_type": "execute_result"
    }
   ],
   "source": [
    "i=pathlib.Path('input/9.txt').read_text().strip()\n",
    "len(i),sum(map(int,i))"
   ]
  },
  {
   "cell_type": "markdown",
   "id": "f691ef7e-c1d6-48d7-a6ec-2c4ffe251663",
   "metadata": {},
   "source": [
    "```\n",
    "          1         2\n",
    "0123456789012345678901234567\n",
    "\n",
    "0099811188827773336446555566\n",
    "```"
   ]
  },
  {
   "cell_type": "code",
   "execution_count": 22,
   "id": "3472e866-5ce3-4c0f-9a6a-646254e5976b",
   "metadata": {
    "scrolled": true,
    "tags": []
   },
   "outputs": [],
   "source": [
    "ex=[int(e) for e in '0099811188827773336446555566'];"
   ]
  },
  {
   "cell_type": "code",
   "execution_count": 25,
   "id": "a36712f8-dbd3-4c9a-be68-a16cf40ca8e7",
   "metadata": {},
   "outputs": [
    {
     "data": {
      "text/plain": [
       "1928"
      ]
     },
     "execution_count": 25,
     "metadata": {},
     "output_type": "execute_result"
    }
   ],
   "source": [
    "sum(i*ch for i, ch in enumerate(ex))"
   ]
  },
  {
   "cell_type": "code",
   "execution_count": 31,
   "id": "82f5466d-303d-445d-9e52-8b8d1ed126d9",
   "metadata": {
    "scrolled": true,
    "tags": []
   },
   "outputs": [
    {
     "name": "stdout",
     "output_type": "stream",
     "text": [
      "i=0 ch=0 i*ch=0 checksum=0\n",
      "i=1 ch=0 i*ch=0 checksum=0\n",
      "i=2 ch=9 i*ch=18 checksum=18\n",
      "i=3 ch=9 i*ch=27 checksum=45\n",
      "i=4 ch=8 i*ch=32 checksum=77\n",
      "i=5 ch=1 i*ch=5 checksum=82\n",
      "i=6 ch=1 i*ch=6 checksum=88\n",
      "i=7 ch=1 i*ch=7 checksum=95\n",
      "i=8 ch=8 i*ch=64 checksum=159\n",
      "i=9 ch=8 i*ch=72 checksum=231\n",
      "i=10 ch=8 i*ch=80 checksum=311\n",
      "i=11 ch=2 i*ch=22 checksum=333\n",
      "i=12 ch=7 i*ch=84 checksum=417\n",
      "i=13 ch=7 i*ch=91 checksum=508\n",
      "i=14 ch=7 i*ch=98 checksum=606\n",
      "i=15 ch=3 i*ch=45 checksum=651\n",
      "i=16 ch=3 i*ch=48 checksum=699\n",
      "i=17 ch=3 i*ch=51 checksum=750\n",
      "i=18 ch=6 i*ch=108 checksum=858\n",
      "i=19 ch=4 i*ch=76 checksum=934\n",
      "i=20 ch=4 i*ch=80 checksum=1014\n",
      "i=21 ch=6 i*ch=126 checksum=1140\n",
      "i=22 ch=5 i*ch=110 checksum=1250\n",
      "i=23 ch=5 i*ch=115 checksum=1365\n",
      "i=24 ch=5 i*ch=120 checksum=1485\n",
      "i=25 ch=5 i*ch=125 checksum=1610\n",
      "i=26 ch=6 i*ch=156 checksum=1766\n",
      "i=27 ch=6 i*ch=162 checksum=1928\n"
     ]
    }
   ],
   "source": [
    "checksum=0\n",
    "for i, ch in enumerate(ex):\n",
    "    checksum+=i*ch\n",
    "    print(f\"{i=} {ch=} {i*ch=} {checksum=}\")"
   ]
  },
  {
   "cell_type": "markdown",
   "id": "1cb4e8a9-36ff-4a5a-9d4f-f175ae9ada62",
   "metadata": {},
   "source": [
    "## 9b"
   ]
  },
  {
   "cell_type": "markdown",
   "id": "863814ad-d928-4765-bae0-a7450bd6ae5c",
   "metadata": {},
   "source": [
    "```\n",
    "          1\n",
    "0123456789012345678\n",
    "\n",
    "2333133121414131402\n",
    "\n",
    "          1         2         3         4\n",
    "012345678901234567890123456789012345678901\n",
    "\n",
    "00...111...2...333.44.5555.6666.777.888899\n",
    "\n",
    "```"
   ]
  },
  {
   "cell_type": "code",
   "execution_count": 6,
   "id": "33dbe7b9-3552-4447-9b5a-e1358929a420",
   "metadata": {},
   "outputs": [
    {
     "name": "stdout",
     "output_type": "stream",
     "text": [
      "i=0 ch='0' i*int(ch)=0 checksum=0\n",
      "i=1 ch='0' i*int(ch)=0 checksum=0\n",
      "i=2 ch='9' i*int(ch)=18 checksum=18\n",
      "i=3 ch='9' i*int(ch)=27 checksum=45\n",
      "i=4 ch='2' i*int(ch)=8 checksum=53\n",
      "i=5 ch='1' i*int(ch)=5 checksum=58\n",
      "i=6 ch='1' i*int(ch)=6 checksum=64\n",
      "i=7 ch='1' i*int(ch)=7 checksum=71\n",
      "i=8 ch='7' i*int(ch)=56 checksum=127\n",
      "i=9 ch='7' i*int(ch)=63 checksum=190\n",
      "i=10 ch='7' i*int(ch)=70 checksum=260\n",
      "i=12 ch='4' i*int(ch)=48 checksum=308\n",
      "i=13 ch='4' i*int(ch)=52 checksum=360\n",
      "i=15 ch='3' i*int(ch)=45 checksum=405\n",
      "i=16 ch='3' i*int(ch)=48 checksum=453\n",
      "i=17 ch='3' i*int(ch)=51 checksum=504\n",
      "i=22 ch='5' i*int(ch)=110 checksum=614\n",
      "i=23 ch='5' i*int(ch)=115 checksum=729\n",
      "i=24 ch='5' i*int(ch)=120 checksum=849\n",
      "i=25 ch='5' i*int(ch)=125 checksum=974\n",
      "i=27 ch='6' i*int(ch)=162 checksum=1136\n",
      "i=28 ch='6' i*int(ch)=168 checksum=1304\n",
      "i=29 ch='6' i*int(ch)=174 checksum=1478\n",
      "i=30 ch='6' i*int(ch)=180 checksum=1658\n",
      "i=36 ch='8' i*int(ch)=288 checksum=1946\n",
      "i=37 ch='8' i*int(ch)=296 checksum=2242\n",
      "i=38 ch='8' i*int(ch)=304 checksum=2546\n",
      "i=39 ch='8' i*int(ch)=312 checksum=2858\n"
     ]
    }
   ],
   "source": [
    "checksum=0\n",
    "exb=\"00992111777.44.333....5555.6666.....8888..\"\n",
    "for i, ch in enumerate(exb):\n",
    "    if ch!='.':\n",
    "        checksum+=i*int(ch)\n",
    "        print(f\"{i=} {ch=} {i*int(ch)=} {checksum=}\")"
   ]
  },
  {
   "cell_type": "markdown",
   "id": "1cce86b1-9b67-43fd-be8f-519c3fd82d8a",
   "metadata": {},
   "source": [
    "# Day 11"
   ]
  },
  {
   "cell_type": "code",
   "execution_count": 4,
   "id": "483a7ad8-6334-4da2-b974-aa2254f65b61",
   "metadata": {},
   "outputs": [
    {
     "data": {
      "text/html": [
       "<div><style>\n",
       ".dataframe > thead > tr,\n",
       ".dataframe > tbody > tr {\n",
       "  text-align: right;\n",
       "  white-space: pre-wrap;\n",
       "}\n",
       "</style>\n",
       "<small>shape: (209, 3)</small><table border=\"1\" class=\"dataframe\"><thead><tr><th>column_1</th><th>column_2</th><th>column_3</th></tr><tr><td>i64</td><td>i64</td><td>list[i64]</td></tr></thead><tbody><tr><td>0</td><td>1</td><td>[112]</td></tr><tr><td>1</td><td>1</td><td>[226688]</td></tr><tr><td>2</td><td>2</td><td>[226, 688]</td></tr><tr><td>3</td><td>2</td><td>[457424, 1392512]</td></tr><tr><td>4</td><td>3</td><td>[457, 424, 2818444288]</td></tr><tr><td>&hellip;</td><td>&hellip;</td><td>&hellip;</td></tr><tr><td>22</td><td>10042</td><td>[24579456, 2024, … 9456]</td></tr><tr><td>23</td><td>14715</td><td>[2457, 9456, … 56]</td></tr><tr><td>24</td><td>22990</td><td>[24, 57, … 6]</td></tr><tr><td>25</td><td>34466</td><td>[2, 4, … 12144]</td></tr><tr><td>183620</td><td>null</td><td>null</td></tr></tbody></table></div>"
      ],
      "text/plain": [
       "shape: (209, 3)\n",
       "┌──────────┬──────────┬──────────────────────────┐\n",
       "│ column_1 ┆ column_2 ┆ column_3                 │\n",
       "│ ---      ┆ ---      ┆ ---                      │\n",
       "│ i64      ┆ i64      ┆ list[i64]                │\n",
       "╞══════════╪══════════╪══════════════════════════╡\n",
       "│ 0        ┆ 1        ┆ [112]                    │\n",
       "│ 1        ┆ 1        ┆ [226688]                 │\n",
       "│ 2        ┆ 2        ┆ [226, 688]               │\n",
       "│ 3        ┆ 2        ┆ [457424, 1392512]        │\n",
       "│ 4        ┆ 3        ┆ [457, 424, 2818444288]   │\n",
       "│ …        ┆ …        ┆ …                        │\n",
       "│ 22       ┆ 10042    ┆ [24579456, 2024, … 9456] │\n",
       "│ 23       ┆ 14715    ┆ [2457, 9456, … 56]       │\n",
       "│ 24       ┆ 22990    ┆ [24, 57, … 6]            │\n",
       "│ 25       ┆ 34466    ┆ [2, 4, … 12144]          │\n",
       "│ 183620   ┆ null     ┆ null                     │\n",
       "└──────────┴──────────┴──────────────────────────┘"
      ]
     },
     "execution_count": 4,
     "metadata": {},
     "output_type": "execute_result"
    }
   ],
   "source": [
    "df=pl.read_csv('input/11a.out',has_header=False,separator=';')\n",
    "df=df.with_columns(pl.col('column_3').map_elements(ast.literal_eval,return_dtype=pl.List(pl.Int64)))"
   ]
  },
  {
   "cell_type": "code",
   "execution_count": 5,
   "id": "e80db3ea-8fae-4b1b-b7f8-fa127cb97557",
   "metadata": {},
   "outputs": [
    {
     "data": {
      "text/plain": [
       "True"
      ]
     },
     "execution_count": 5,
     "metadata": {},
     "output_type": "execute_result"
    }
   ],
   "source": [
    "(df['column_3'].list.len()==df['column_2']).all()"
   ]
  },
  {
   "cell_type": "code",
   "execution_count": 6,
   "id": "d7ab9884-392e-4e65-a4fd-34b4fc39f15e",
   "metadata": {},
   "outputs": [
    {
     "data": {
      "text/html": [
       "<div><style>\n",
       ".dataframe > thead > tr,\n",
       ".dataframe > tbody > tr {\n",
       "  text-align: right;\n",
       "  white-space: pre-wrap;\n",
       "}\n",
       "</style>\n",
       "<small>shape: (8, 3)</small><table border=\"1\" class=\"dataframe\"><thead><tr><th>column_1</th><th>column_2</th><th>column_3</th></tr><tr><td>i64</td><td>i64</td><td>list[i64]</td></tr></thead><tbody><tr><td>25</td><td>14988</td><td>[16192, 1, … 16192]</td></tr><tr><td>25</td><td>45297</td><td>[4048, 8096, … 12144]</td></tr><tr><td>25</td><td>23568</td><td>[32772608, 2024, … 16192]</td></tr><tr><td>25</td><td>19778</td><td>[40, 48, … 9456]</td></tr><tr><td>25</td><td>7610</td><td>[32, 77, … 16192]</td></tr><tr><td>25</td><td>12120</td><td>[16192, 1, … 56]</td></tr><tr><td>25</td><td>25793</td><td>[6072, 4048, … 24579456]</td></tr><tr><td>25</td><td>34466</td><td>[2, 4, … 12144]</td></tr></tbody></table></div>"
      ],
      "text/plain": [
       "shape: (8, 3)\n",
       "┌──────────┬──────────┬───────────────────────────┐\n",
       "│ column_1 ┆ column_2 ┆ column_3                  │\n",
       "│ ---      ┆ ---      ┆ ---                       │\n",
       "│ i64      ┆ i64      ┆ list[i64]                 │\n",
       "╞══════════╪══════════╪═══════════════════════════╡\n",
       "│ 25       ┆ 14988    ┆ [16192, 1, … 16192]       │\n",
       "│ 25       ┆ 45297    ┆ [4048, 8096, … 12144]     │\n",
       "│ 25       ┆ 23568    ┆ [32772608, 2024, … 16192] │\n",
       "│ 25       ┆ 19778    ┆ [40, 48, … 9456]          │\n",
       "│ 25       ┆ 7610     ┆ [32, 77, … 16192]         │\n",
       "│ 25       ┆ 12120    ┆ [16192, 1, … 56]          │\n",
       "│ 25       ┆ 25793    ┆ [6072, 4048, … 24579456]  │\n",
       "│ 25       ┆ 34466    ┆ [2, 4, … 12144]           │\n",
       "└──────────┴──────────┴───────────────────────────┘"
      ]
     },
     "execution_count": 6,
     "metadata": {},
     "output_type": "execute_result"
    }
   ],
   "source": [
    "df25=df.filter(pl.col('column_1')==25)"
   ]
  },
  {
   "cell_type": "code",
   "execution_count": 8,
   "id": "95b7bfe1-ca24-428e-ad2f-595a2944da7c",
   "metadata": {},
   "outputs": [
    {
     "data": {
      "text/html": [
       "<div><style>\n",
       ".dataframe > thead > tr,\n",
       ".dataframe > tbody > tr {\n",
       "  text-align: right;\n",
       "  white-space: pre-wrap;\n",
       "}\n",
       "</style>\n",
       "<small>shape: (432, 2)</small><table border=\"1\" class=\"dataframe\"><thead><tr><th>column_3</th><th>count</th></tr><tr><td>i64</td><td>u32</td></tr></thead><tbody><tr><td>8</td><td>9756</td></tr><tr><td>4</td><td>9708</td></tr><tr><td>2</td><td>9140</td></tr><tr><td>0</td><td>9099</td></tr><tr><td>6</td><td>7802</td></tr><tr><td>&hellip;</td><td>&hellip;</td></tr><tr><td>49167008</td><td>1</td></tr><tr><td>140805632</td><td>1</td></tr><tr><td>14</td><td>1</td></tr><tr><td>240026</td><td>1</td></tr><tr><td>580992</td><td>1</td></tr></tbody></table></div>"
      ],
      "text/plain": [
       "shape: (432, 2)\n",
       "┌───────────┬───────┐\n",
       "│ column_3  ┆ count │\n",
       "│ ---       ┆ ---   │\n",
       "│ i64       ┆ u32   │\n",
       "╞═══════════╪═══════╡\n",
       "│ 8         ┆ 9756  │\n",
       "│ 4         ┆ 9708  │\n",
       "│ 2         ┆ 9140  │\n",
       "│ 0         ┆ 9099  │\n",
       "│ 6         ┆ 7802  │\n",
       "│ …         ┆ …     │\n",
       "│ 49167008  ┆ 1     │\n",
       "│ 140805632 ┆ 1     │\n",
       "│ 14        ┆ 1     │\n",
       "│ 240026    ┆ 1     │\n",
       "│ 580992    ┆ 1     │\n",
       "└───────────┴───────┘"
      ]
     },
     "execution_count": 8,
     "metadata": {},
     "output_type": "execute_result"
    }
   ],
   "source": [
    "df25cnt=df25['column_3'].explode().value_counts(sort=True)"
   ]
  },
  {
   "cell_type": "code",
   "execution_count": 11,
   "id": "354aded3-2cb6-4b7a-a17f-c1b72eeece76",
   "metadata": {},
   "outputs": [
    {
     "data": {
      "text/plain": [
       "<seaborn.axisgrid.FacetGrid at 0x7f81ca580e20>"
      ]
     },
     "execution_count": 11,
     "metadata": {},
     "output_type": "execute_result"
    },
    {
     "data": {
      "image/png": "[encoded data removed]",
      "text/plain": [
       "<Figure size 360x360 with 1 Axes>"
      ]
     },
     "metadata": {
      "needs_background": "light"
     },
     "output_type": "display_data"
    }
   ],
   "source": [
    "sns.relplot(data=df25cnt,x='column_3',y='count')"
   ]
  },
  {
   "cell_type": "markdown",
   "id": "3809f3a5-c465-4225-bd9a-581e480997ce",
   "metadata": {},
   "source": [
    "# Day 13"
   ]
  },
  {
   "cell_type": "markdown",
   "id": "575f959b-0faa-49bb-b33d-6674f99e5a2d",
   "metadata": {},
   "source": [
    "$$\n",
    "\\begin{align*}\n",
    "    a \\cdot a_x + b \\cdot b_x &= p_x \\tag{1} \\\\\n",
    "    a \\cdot a_y + b \\cdot b_y &= p_y \\tag{2} \\\\\n",
    "    a &= \\frac{p_x - b \\cdot b_x}{a_x} \\tag{1a} \\\\\n",
    "    \\frac{(p_x - b \\cdot b_x) \\cdot a_y}{a_x} + b \\cdot b_y &= p_y \\tag{1a,2} \\\\\n",
    "    \\frac{p_x \\cdot a_y}{a_x} - b \\cdot \\frac{b_x \\cdot a_y}{a_x} + b \\cdot b_y &= p_y \\\\\n",
    "    b \\cdot \\left(b_y - \\frac{b_x \\cdot a_y}{a_x}\\right) &= p_y - \\frac{p_x \\cdot a_y}{a_x} \\\\\n",
    "    b &= \\frac{p_y - \\frac{p_x \\cdot a_y}{a_x}}{b_y - \\frac{b_x \\cdot a_y}{a_x}} \\\\\n",
    "    b &= \\frac{a_x \\cdot p_y - p_x \\cdot a_y}{a_x \\cdot b_y - b_x \\cdot a_y}\n",
    "\\end{align*}\n",
    "$$"
   ]
  },
  {
   "cell_type": "code",
   "execution_count": 52,
   "id": "8752bb51-5861-43ec-a332-0d65b529034a",
   "metadata": {},
   "outputs": [],
   "source": [
    "ax,ay,bx,by,px,py,a,b=sympy.symbols('a_x a_y b_x b_y p_x p_y a b')"
   ]
  },
  {
   "cell_type": "code",
   "execution_count": 53,
   "id": "cb381257-97ae-412f-b7fc-bc1adb598a61",
   "metadata": {},
   "outputs": [
    {
     "data": {
      "text/plain": [
       "{a: (-b_x*p_y + b_y*p_x)/(a_x*b_y - a_y*b_x),\n",
       " b: (a_x*p_y - a_y*p_x)/(a_x*b_y - a_y*b_x)}"
      ]
     },
     "execution_count": 53,
     "metadata": {},
     "output_type": "execute_result"
    }
   ],
   "source": [
    "sols=sympy.solve([a*ax + b*bx - px, a*ay + b*by - py],a,b)"
   ]
  },
  {
   "cell_type": "code",
   "execution_count": 54,
   "id": "cd489554-ec01-4086-a8e8-c0e5ce19b766",
   "metadata": {},
   "outputs": [
    {
     "data": {
      "text/latex": [
       "$\\displaystyle \\frac{- b_{x} p_{y} + b_{y} p_{x}}{a_{x} b_{y} - a_{y} b_{x}}$"
      ],
      "text/plain": [
       "(-b_x*p_y + b_y*p_x)/(a_x*b_y - a_y*b_x)"
      ]
     },
     "execution_count": 54,
     "metadata": {},
     "output_type": "execute_result"
    }
   ],
   "source": [
    "sols[a]"
   ]
  },
  {
   "cell_type": "code",
   "execution_count": 55,
   "id": "39156b29-57c4-4af6-9c4f-aeaddc092dd6",
   "metadata": {},
   "outputs": [
    {
     "data": {
      "text/latex": [
       "$\\displaystyle \\frac{a_{x} p_{y} - a_{y} p_{x}}{a_{x} b_{y} - a_{y} b_{x}}$"
      ],
      "text/plain": [
       "(a_x*p_y - a_y*p_x)/(a_x*b_y - a_y*b_x)"
      ]
     },
     "execution_count": 55,
     "metadata": {},
     "output_type": "execute_result"
    }
   ],
   "source": [
    "sols[b]"
   ]
  },
  {
   "cell_type": "markdown",
   "id": "cc642a54-2233-4dbd-96f3-e5629a9d33cb",
   "metadata": {},
   "source": [
    "# Day 17"
   ]
  },
  {
   "cell_type": "markdown",
   "id": "459cb9ce-a852-40d7-a55b-af3ad5ac8de7",
   "metadata": {},
   "source": [
    "Register A: 30899381<br>\n",
    "Register B: 0<br>\n",
    "Register C: 0<br>\n",
    "\n",
    "Program: 2,4,1,1,7,5,4,0,0,3,1,6,5,5,3,0"
   ]
  },
  {
   "cell_type": "markdown",
   "id": "13ef2b21-c923-4902-90c3-1df99ac7210b",
   "metadata": {},
   "source": [
    "```\n",
    "2,4  bst A     b=a%8\n",
    "1,1  bxl B     xor b,1\n",
    "7,5  cdv b     c=a/2**b\n",
    "4,0  bxc       b^=C\n",
    "0,3  adv 3     a/=8\n",
    "1,6  bxl 6     b^=6\n",
    "5,5  out b     out B%8\n",
    "3,0  jnz 0     jnz 0\n",
    "```"
   ]
  },
  {
   "cell_type": "code",
   "execution_count": 64,
   "id": "50bad9e8-fd32-4208-b9b9-ce692b6ec441",
   "metadata": {},
   "outputs": [
    {
     "name": "stdout",
     "output_type": "stream",
     "text": [
      "1\n",
      "6\n",
      "3\n",
      "6\n",
      "5\n",
      "6\n",
      "5\n",
      "1\n",
      "7\n"
     ]
    }
   ],
   "source": [
    "a=30899381\n",
    "while True:\n",
    "    b=a%8         # take 3 LSB bits if A\n",
    "    b^=1          # flip bit 0\n",
    "    c=a//2**b     # shift a by b bits?\n",
    "    b^=c          # flip by lsb of c\n",
    "    a//=8         # shift A right 3 bits\n",
    "    b^=6          # flip bit 1&2\n",
    "    print(b%8)\n",
    "    if a==0: break"
   ]
  },
  {
   "cell_type": "code",
   "execution_count": 97,
   "id": "6dc3cbd1-00ee-47df-8b88-29026dfe1c4f",
   "metadata": {},
   "outputs": [
    {
     "name": "stdout",
     "output_type": "stream",
     "text": [
      "a               1110101110111110010110101\n",
      "b=a%8                                 101\n",
      "b^=1                                  100\n",
      "c=a//2**b           111010111011111001011\n",
      "b^=c                111010111011111001111\n",
      "a//=8              1110101110111110010110\n",
      "b^=6 out b%8 -------------------------- 1\n",
      "a                  1110101110111110010110\n",
      "b=a%8                                 110\n",
      "b^=1                                  111\n",
      "c=a//2**b                 111010111011111\n",
      "b^=c                      111010111011000\n",
      "a//=8                 1110101110111110010\n",
      "b^=6 out b%8 -------------------------- 6\n",
      "a                     1110101110111110010\n",
      "b=a%8                                  10\n",
      "b^=1                                   11\n",
      "c=a//2**b                1110101110111110\n",
      "b^=c                     1110101110111101\n",
      "a//=8                    1110101110111110\n",
      "b^=6 out b%8 -------------------------- 3\n",
      "a                        1110101110111110\n",
      "b=a%8                                 110\n",
      "b^=1                                  111\n",
      "c=a//2**b                       111010111\n",
      "b^=c                            111010000\n",
      "a//=8                       1110101110111\n",
      "b^=6 out b%8 -------------------------- 6\n",
      "a                           1110101110111\n",
      "b=a%8                                 111\n",
      "b^=1                                  110\n",
      "c=a//2**b                         1110101\n",
      "b^=c                              1110011\n",
      "a//=8                          1110101110\n",
      "b^=6 out b%8 -------------------------- 5\n",
      "a                              1110101110\n",
      "b=a%8                                 110\n",
      "b^=1                                  111\n",
      "c=a//2**b                             111\n",
      "b^=c                                    0\n",
      "a//=8                             1110101\n",
      "b^=6 out b%8 -------------------------- 6\n",
      "a                                 1110101\n",
      "b=a%8                                 101\n",
      "b^=1                                  100\n",
      "c=a//2**b                             111\n",
      "b^=c                                   11\n",
      "a//=8                                1110\n",
      "b^=6 out b%8 -------------------------- 5\n",
      "a                                    1110\n",
      "b=a%8                                 110\n",
      "b^=1                                  111\n",
      "c=a//2**b                               0\n",
      "b^=c                                  111\n",
      "a//=8                                   1\n",
      "b^=6 out b%8 -------------------------- 1\n",
      "a                                       1\n",
      "b=a%8                                   1\n",
      "b^=1                                    0\n",
      "c=a//2**b                               1\n",
      "b^=c                                    1\n",
      "a//=8                                   0\n",
      "b^=6 out b%8 -------------------------- 7\n"
     ]
    }
   ],
   "source": [
    "a=30899381\n",
    "while True:\n",
    "    print(f'a          {bin(a)[2:]:>30}')\n",
    "    b=a%8         # take 3 LSB bits if A\n",
    "    print(f'b=a%8      {bin(b)[2:]:>30}')\n",
    "    b^=1          # flip bit 0\n",
    "    print(f'b^=1       {bin(b)[2:]:>30}')\n",
    "    c=a//2**b     # \n",
    "    print(f'c=a//2**b  {bin(c)[2:]:>30}')\n",
    "    b^=c          # \n",
    "    print(f'b^=c       {bin(b)[2:]:>30}')\n",
    "    a//=8         # shift A right 3 bits\n",
    "    print(f'a//=8      {bin(a)[2:]:>30}')\n",
    "    b^=6          # flip bit 1&2\n",
    "    print(f'b^=6 out b%8 -------------------------- {b%8:>}')\n",
    "    if a==0: break"
   ]
  },
  {
   "cell_type": "code",
   "execution_count": null,
   "id": "b900af1e-57ad-488f-b8c4-49f64d72f249",
   "metadata": {},
   "outputs": [],
   "source": [
    "b=7\n",
    "a=0\n",
    "\n",
    "b^=6\n",
    "#a = 001..111\n",
    "b = prevb xor c ==> c = ?, prevb=?\n"
   ]
  },
  {
   "cell_type": "markdown",
   "id": "665da47a-8dc7-4adc-87e9-dceb5606e571",
   "metadata": {},
   "source": [
    "# Day 20"
   ]
  },
  {
   "cell_type": "code",
   "execution_count": 106,
   "id": "36a08f3b-a9b3-40ba-b3b3-5de9e18410b0",
   "metadata": {},
   "outputs": [
    {
     "data": {
      "text/plain": [
       "285"
      ]
     },
     "execution_count": 106,
     "metadata": {},
     "output_type": "execute_result"
    }
   ],
   "source": [
    "sum(int(l.split()[2]) for l in \"\"\"There are 32 cheats that save 50 picoseconds.\n",
    "There are 31 cheats that save 52 picoseconds.\n",
    "There are 29 cheats that save 54 picoseconds.\n",
    "There are 39 cheats that save 56 picoseconds.\n",
    "There are 25 cheats that save 58 picoseconds.\n",
    "There are 23 cheats that save 60 picoseconds.\n",
    "There are 20 cheats that save 62 picoseconds.\n",
    "There are 19 cheats that save 64 picoseconds.\n",
    "There are 12 cheats that save 66 picoseconds.\n",
    "There are 14 cheats that save 68 picoseconds.\n",
    "There are 12 cheats that save 70 picoseconds.\n",
    "There are 22 cheats that save 72 picoseconds.\n",
    "There are 4 cheats that save 74 picoseconds.\n",
    "There are 3 cheats that save 76 picoseconds.\"\"\".splitlines())"
   ]
  },
  {
   "cell_type": "markdown",
   "id": "6fa8b426-fa53-424c-9856-2fe39dd2f55a",
   "metadata": {},
   "source": [
    "# Day 22"
   ]
  },
  {
   "cell_type": "code",
   "execution_count": 113,
   "id": "f4c890b2-46d9-4ecc-aa47-3936c6a42f38",
   "metadata": {},
   "outputs": [
    {
     "data": {
      "text/plain": [
       "7867"
      ]
     },
     "execution_count": 113,
     "metadata": {},
     "output_type": "execute_result"
    }
   ],
   "source": [
    "n=123\n",
    "s1 = (n ^ n*64)% 16777216"
   ]
  },
  {
   "cell_type": "code",
   "execution_count": 114,
   "id": "12d221f5-4640-406e-a29f-4f860d711aa2",
   "metadata": {},
   "outputs": [
    {
     "data": {
      "text/plain": [
       "7758"
      ]
     },
     "execution_count": 114,
     "metadata": {},
     "output_type": "execute_result"
    }
   ],
   "source": [
    "s2 = (s1 ^ s1//32) % 16777216"
   ]
  },
  {
   "cell_type": "code",
   "execution_count": 116,
   "id": "a5eeae82-bf05-49b8-8c60-49778233cc46",
   "metadata": {},
   "outputs": [
    {
     "data": {
      "text/plain": [
       "15887950"
      ]
     },
     "execution_count": 116,
     "metadata": {},
     "output_type": "execute_result"
    }
   ],
   "source": [
    "s3 = (s2 ^ s2 * 2048) % 16777216"
   ]
  }
 ],
 "metadata": {
  "kernelspec": {
   "display_name": "Python 3 (ipykernel)",
   "language": "python",
   "name": "python3"
  },
  "language_info": {
   "codemirror_mode": {
    "name": "ipython",
    "version": 3
   },
   "file_extension": ".py",
   "mimetype": "text/x-python",
   "name": "python",
   "nbconvert_exporter": "python",
   "pygments_lexer": "ipython3",
   "version": "3.9.12"
  }
 },
 "nbformat": 4,
 "nbformat_minor": 5
}
