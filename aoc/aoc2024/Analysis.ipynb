{
 "cells": [
  {
   "cell_type": "code",
   "execution_count": 9,
   "id": "27a472a1-d157-4499-92a4-90291ad09604",
   "metadata": {},
   "outputs": [],
   "source": [
    "import polars as pl, seaborn as sns, pathlib"
   ]
  },
  {
   "cell_type": "markdown",
   "id": "edb9f8b4-12a1-444e-ad37-4306e00fc2ce",
   "metadata": {},
   "source": [
    "# Day 7"
   ]
  },
  {
   "cell_type": "code",
   "execution_count": 2,
   "id": "1ad1bcd3-5178-4b0b-8caa-a08442b42621",
   "metadata": {},
   "outputs": [
    {
     "data": {
      "text/html": [
       "<div><style>\n",
       ".dataframe > thead > tr,\n",
       ".dataframe > tbody > tr {\n",
       "  text-align: right;\n",
       "  white-space: pre-wrap;\n",
       "}\n",
       "</style>\n",
       "<small>shape: (850, 3)</small><table border=\"1\" class=\"dataframe\"><thead><tr><th>column_1</th><th>column_2</th><th>col2len</th></tr><tr><td>i64</td><td>list[str]</td><td>u32</td></tr></thead><tbody><tr><td>7628244</td><td>[&quot;4&quot;, &quot;6&quot;, … &quot;321&quot;]</td><td>5</td></tr><tr><td>1961493912</td><td>[&quot;729&quot;, &quot;232&quot;, … &quot;9&quot;]</td><td>7</td></tr><tr><td>79325232924618</td><td>[&quot;907&quot;, &quot;466&quot;, … &quot;618&quot;]</td><td>6</td></tr><tr><td>5036760</td><td>[&quot;5&quot;, &quot;647&quot;, … &quot;8&quot;]</td><td>10</td></tr><tr><td>152117</td><td>[&quot;5&quot;, &quot;75&quot;, … &quot;162&quot;]</td><td>6</td></tr><tr><td>&hellip;</td><td>&hellip;</td><td>&hellip;</td></tr><tr><td>55225476873</td><td>[&quot;685&quot;, &quot;1&quot;, … &quot;873&quot;]</td><td>7</td></tr><tr><td>1721520</td><td>[&quot;456&quot;, &quot;6&quot;, … &quot;797&quot;]</td><td>5</td></tr><tr><td>1454758</td><td>[&quot;16&quot;, &quot;96&quot;, … &quot;50&quot;]</td><td>6</td></tr><tr><td>476343</td><td>[&quot;4&quot;, &quot;466&quot;, … &quot;9&quot;]</td><td>12</td></tr><tr><td>6825448</td><td>[&quot;94&quot;, &quot;2&quot;, … &quot;8&quot;]</td><td>7</td></tr></tbody></table></div>"
      ],
      "text/plain": [
       "shape: (850, 3)\n",
       "┌────────────────┬─────────────────────────┬─────────┐\n",
       "│ column_1       ┆ column_2                ┆ col2len │\n",
       "│ ---            ┆ ---                     ┆ ---     │\n",
       "│ i64            ┆ list[str]               ┆ u32     │\n",
       "╞════════════════╪═════════════════════════╪═════════╡\n",
       "│ 7628244        ┆ [\"4\", \"6\", … \"321\"]     ┆ 5       │\n",
       "│ 1961493912     ┆ [\"729\", \"232\", … \"9\"]   ┆ 7       │\n",
       "│ 79325232924618 ┆ [\"907\", \"466\", … \"618\"] ┆ 6       │\n",
       "│ 5036760        ┆ [\"5\", \"647\", … \"8\"]     ┆ 10      │\n",
       "│ 152117         ┆ [\"5\", \"75\", … \"162\"]    ┆ 6       │\n",
       "│ …              ┆ …                       ┆ …       │\n",
       "│ 55225476873    ┆ [\"685\", \"1\", … \"873\"]   ┆ 7       │\n",
       "│ 1721520        ┆ [\"456\", \"6\", … \"797\"]   ┆ 5       │\n",
       "│ 1454758        ┆ [\"16\", \"96\", … \"50\"]    ┆ 6       │\n",
       "│ 476343         ┆ [\"4\", \"466\", … \"9\"]     ┆ 12      │\n",
       "│ 6825448        ┆ [\"94\", \"2\", … \"8\"]      ┆ 7       │\n",
       "└────────────────┴─────────────────────────┴─────────┘"
      ]
     },
     "execution_count": 2,
     "metadata": {},
     "output_type": "execute_result"
    }
   ],
   "source": [
    "df=pl.read_csv('input/7.txt',has_header=False,separator=':')\n",
    "df=df.with_columns(pl.col('column_2').str.strip_prefix(' ').str.split(' ')).with_columns(pl.col('column_2').list.len().alias('col2len'))"
   ]
  },
  {
   "cell_type": "code",
   "execution_count": 3,
   "id": "c2b41ab7-aeca-4a14-8beb-f8227106aa93",
   "metadata": {},
   "outputs": [
    {
     "data": {
      "text/plain": [
       "<seaborn.axisgrid.FacetGrid at 0x7f96b8646880>"
      ]
     },
     "execution_count": 3,
     "metadata": {},
     "output_type": "execute_result"
    },
    {
     "data": {
      "image/png": "[encoded data removed]",
      "text/plain": [
       "<Figure size 360x360 with 1 Axes>"
      ]
     },
     "metadata": {
      "needs_background": "light"
     },
     "output_type": "display_data"
    }
   ],
   "source": [
    "sns.displot(x=df['col2len'])"
   ]
  },
  {
   "cell_type": "code",
   "execution_count": 4,
   "id": "3794b217-0622-4270-ab0b-96f2901f5015",
   "metadata": {},
   "outputs": [
    {
     "data": {
      "text/plain": [
       "12"
      ]
     },
     "execution_count": 4,
     "metadata": {},
     "output_type": "execute_result"
    }
   ],
   "source": [
    "df['col2len'].max()"
   ]
  },
  {
   "cell_type": "markdown",
   "id": "38d429d8-d5dc-4047-b179-d3c3e1021963",
   "metadata": {},
   "source": [
    "# Day 9"
   ]
  },
  {
   "cell_type": "code",
   "execution_count": 18,
   "id": "41d850ee-62ca-4e45-b62b-4b9a2701074e",
   "metadata": {},
   "outputs": [
    {
     "data": {
      "text/plain": [
       "(19999, 94570)"
      ]
     },
     "execution_count": 18,
     "metadata": {},
     "output_type": "execute_result"
    }
   ],
   "source": [
    "i=pathlib.Path('input/9.txt').read_text().strip()\n",
    "len(i),sum(map(int,i))"
   ]
  },
  {
   "cell_type": "markdown",
   "id": "f691ef7e-c1d6-48d7-a6ec-2c4ffe251663",
   "metadata": {},
   "source": [
    "```\n",
    "          1         2\n",
    "0123456789012345678901234567\n",
    "\n",
    "0099811188827773336446555566\n",
    "```"
   ]
  },
  {
   "cell_type": "code",
   "execution_count": 22,
   "id": "3472e866-5ce3-4c0f-9a6a-646254e5976b",
   "metadata": {
    "scrolled": true,
    "tags": []
   },
   "outputs": [],
   "source": [
    "ex=[int(e) for e in '0099811188827773336446555566'];"
   ]
  },
  {
   "cell_type": "code",
   "execution_count": 25,
   "id": "a36712f8-dbd3-4c9a-be68-a16cf40ca8e7",
   "metadata": {},
   "outputs": [
    {
     "data": {
      "text/plain": [
       "1928"
      ]
     },
     "execution_count": 25,
     "metadata": {},
     "output_type": "execute_result"
    }
   ],
   "source": [
    "sum(i*ch for i, ch in enumerate(ex))"
   ]
  },
  {
   "cell_type": "code",
   "execution_count": 31,
   "id": "82f5466d-303d-445d-9e52-8b8d1ed126d9",
   "metadata": {},
   "outputs": [
    {
     "name": "stdout",
     "output_type": "stream",
     "text": [
      "i=0 ch=0 i*ch=0 checksum=0\n",
      "i=1 ch=0 i*ch=0 checksum=0\n",
      "i=2 ch=9 i*ch=18 checksum=18\n",
      "i=3 ch=9 i*ch=27 checksum=45\n",
      "i=4 ch=8 i*ch=32 checksum=77\n",
      "i=5 ch=1 i*ch=5 checksum=82\n",
      "i=6 ch=1 i*ch=6 checksum=88\n",
      "i=7 ch=1 i*ch=7 checksum=95\n",
      "i=8 ch=8 i*ch=64 checksum=159\n",
      "i=9 ch=8 i*ch=72 checksum=231\n",
      "i=10 ch=8 i*ch=80 checksum=311\n",
      "i=11 ch=2 i*ch=22 checksum=333\n",
      "i=12 ch=7 i*ch=84 checksum=417\n",
      "i=13 ch=7 i*ch=91 checksum=508\n",
      "i=14 ch=7 i*ch=98 checksum=606\n",
      "i=15 ch=3 i*ch=45 checksum=651\n",
      "i=16 ch=3 i*ch=48 checksum=699\n",
      "i=17 ch=3 i*ch=51 checksum=750\n",
      "i=18 ch=6 i*ch=108 checksum=858\n",
      "i=19 ch=4 i*ch=76 checksum=934\n",
      "i=20 ch=4 i*ch=80 checksum=1014\n",
      "i=21 ch=6 i*ch=126 checksum=1140\n",
      "i=22 ch=5 i*ch=110 checksum=1250\n",
      "i=23 ch=5 i*ch=115 checksum=1365\n",
      "i=24 ch=5 i*ch=120 checksum=1485\n",
      "i=25 ch=5 i*ch=125 checksum=1610\n",
      "i=26 ch=6 i*ch=156 checksum=1766\n",
      "i=27 ch=6 i*ch=162 checksum=1928\n"
     ]
    }
   ],
   "source": [
    "checksum=0\n",
    "for i, ch in enumerate(ex):\n",
    "    checksum+=i*ch\n",
    "    print(f\"{i=} {ch=} {i*ch=} {checksum=}\")"
   ]
  },
  {
   "cell_type": "code",
   "execution_count": null,
   "id": "d8ef983b-6152-4151-b5f1-6d09121f5211",
   "metadata": {},
   "outputs": [],
   "source": []
  }
 ],
 "metadata": {
  "kernelspec": {
   "display_name": "Python 3 (ipykernel)",
   "language": "python",
   "name": "python3"
  },
  "language_info": {
   "codemirror_mode": {
    "name": "ipython",
    "version": 3
   },
   "file_extension": ".py",
   "mimetype": "text/x-python",
   "name": "python",
   "nbconvert_exporter": "python",
   "pygments_lexer": "ipython3",
   "version": "3.9.12"
  }
 },
 "nbformat": 4,
 "nbformat_minor": 5
}
